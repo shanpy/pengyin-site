{
 "cells": [
  {
   "cell_type": "markdown",
   "metadata": {},
   "source": [
    "This is a reading note for Chapter 1: Probability and Distributions of the classical statistics book: Introduction to Methematical Statistics (6th edition), written by Robert V.Hogg, Joseph W. McKean and Allen T. Craig. \n",
    "\n",
    "<!-- TEASER_END -->"
   ]
  },
  {
   "cell_type": "markdown",
   "metadata": {},
   "source": [
    "## 1.1 Introduction"
   ]
  },
  {
   "cell_type": "markdown",
   "metadata": {},
   "source": [
    "#### Random Experiment\n",
    "\n",
    "Each experiment terminates with an **outcome**.\n",
    "\n",
    "For an experiment that:\n",
    "\n",
    "1. A collection of every possible outcome can be described *prior* to its performance\n",
    "\n",
    "2. Can be repeated under the *same* conditions\n",
    "\n",
    "It is called a **random experiment**. And the collection of every possible outcome is called the **experimental space** or the **sample space**. \n",
    "\n",
    "**Relative Frequency**: \\(f/n\\) of the event \\(C\\) in these $N$ experiments. => $p$ for a large value of $N$"
   ]
  }
 ],
 "metadata": {
  "kernelspec": {
   "display_name": "Python 3",
   "language": "python",
   "name": "python3"
  },
  "language_info": {
   "codemirror_mode": {
    "name": "ipython",
    "version": 3
   },
   "file_extension": ".py",
   "mimetype": "text/x-python",
   "name": "python",
   "nbconvert_exporter": "python",
   "pygments_lexer": "ipython3",
   "version": "3.5.2"
  },
  "nikola": {
   "category": "",
   "date": "2017-01-14 20:55:37 UTC-05:00",
   "description": "",
   "link": "",
   "slug": "reading-note-introduction-to-mathematical-statistics",
   "tags": "",
   "title": "Reading Note: Introduction to Mathematical Statistics",
   "type": "text"
  }
 },
 "nbformat": 4,
 "nbformat_minor": 2
}
